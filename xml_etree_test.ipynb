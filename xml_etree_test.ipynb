{
 "cells": [
  {
   "cell_type": "code",
   "execution_count": 1,
   "metadata": {},
   "outputs": [],
   "source": [
    "import xml.etree.ElementTree as ET"
   ]
  },
  {
   "cell_type": "code",
   "execution_count": 2,
   "metadata": {},
   "outputs": [],
   "source": [
    "tree = ET.parse('ebs12_base.xml')\n",
    "root = tree.getroot()"
   ]
  },
  {
   "cell_type": "code",
   "execution_count": 3,
   "metadata": {},
   "outputs": [
    {
     "name": "stdout",
     "output_type": "stream",
     "text": [
      "DefaultDiscParams {}\n",
      "Databases {}\n"
     ]
    }
   ],
   "source": [
    "for child in root:\n",
    "    print(child.tag, child.attrib)\n",
    "    "
   ]
  },
  {
   "cell_type": "code",
   "execution_count": 19,
   "metadata": {},
   "outputs": [
    {
     "name": "stdout",
     "output_type": "stream",
     "text": [
      "testing traversal\n",
      "<Element 'EBSDiscovery' at 0x7f4985afcb38>\n",
      "<Element 'DefaultDiscParams' at 0x7f4985afcc78>\n",
      "<Element 'NamedCreds' at 0x7f4985afccc8>\n",
      "<Element 'AppsNamedCreds' at 0x7f4985afcd18>\n",
      "<Element 'WlsAdminNamedCreds' at 0x7f4985afcd68>\n",
      "<Element 'Databases' at 0x7f4985afcdb8>\n",
      "<Element 'Database' at 0x7f4985afce08>\n"
     ]
    }
   ],
   "source": [
    "print(\"testing traversal\")\n",
    "print(root)\n",
    "print(root[0])\n",
    "print(root[0][0])\n",
    "print(root[0][0][0])\n",
    "print(root[0][0][1])\n",
    "print(root[1])\n",
    "print(root[1][0])\n"
   ]
  }
 ],
 "metadata": {
  "kernelspec": {
   "display_name": "Python 3.6.8 64-bit",
   "language": "python",
   "name": "python3"
  },
  "language_info": {
   "codemirror_mode": {
    "name": "ipython",
    "version": 3
   },
   "file_extension": ".py",
   "mimetype": "text/x-python",
   "name": "python",
   "nbconvert_exporter": "python",
   "pygments_lexer": "ipython3",
   "version": "3.6.8"
  },
  "orig_nbformat": 4,
  "vscode": {
   "interpreter": {
    "hash": "916dbcbb3f70747c44a77c7bcd40155683ae19c65e1c03b4aa3499c5328201f1"
   }
  }
 },
 "nbformat": 4,
 "nbformat_minor": 2
}
