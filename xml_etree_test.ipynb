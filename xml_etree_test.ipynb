{
 "cells": [
  {
   "cell_type": "code",
   "execution_count": null,
   "metadata": {},
   "outputs": [],
   "source": [
    "import xml.etree.ElementTree as ET"
   ]
  },
  {
   "cell_type": "code",
   "execution_count": 59,
   "metadata": {},
   "outputs": [],
   "source": [
    "tree = ET.parse('ebs12_base.xml')\n",
    "root = tree.getroot()"
   ]
  },
  {
   "cell_type": "code",
   "execution_count": 60,
   "metadata": {},
   "outputs": [
    {
     "name": "stdout",
     "output_type": "stream",
     "text": [
      "DefaultDiscParams {}\n",
      "Databases {}\n"
     ]
    }
   ],
   "source": [
    "for child in root:\n",
    "    print(child.tag, child.attrib)\n",
    "    "
   ]
  },
  {
   "cell_type": "code",
   "execution_count": 61,
   "metadata": {},
   "outputs": [
    {
     "name": "stdout",
     "output_type": "stream",
     "text": [
      "testing traversal\n",
      "<Element 'EBSDiscovery' at 0x7f4985c9edb8>\n",
      "<Element 'DefaultDiscParams' at 0x7f4985c9ee58>\n",
      "<Element 'NamedCreds' at 0x7f4985c9ee08>\n",
      "<Element 'AppsNamedCreds' at 0x7f4985c9eea8>\n",
      "<Element 'WlsAdminNamedCreds' at 0x7f4985c9eef8>\n",
      "<Element 'Databases' at 0x7f4985c9ef48>\n",
      "<Element 'Database' at 0x7f4985c9ef98>\n"
     ]
    }
   ],
   "source": [
    "print(\"testing traversal\")\n",
    "print(root)\n",
    "print(root[0])\n",
    "print(root[0][0])\n",
    "print(root[0][0][0])\n",
    "print(root[0][0][1])\n",
    "print(root[1])\n",
    "print(root[1][0])\n"
   ]
  },
  {
   "cell_type": "code",
   "execution_count": 62,
   "metadata": {},
   "outputs": [
    {
     "name": "stdout",
     "output_type": "stream",
     "text": [
      "DB_ORACLE___CLEDBA_SWMXDBA_EXLD___EM_MONITOR\n",
      "DB_ORACLE___CLEDBA_SWMXDBA_EXLD___EM_MONITOR\n"
     ]
    }
   ],
   "source": [
    "#find Database element in document and set the text value\n",
    "for apps_named_creds in root.iter('AppsNamedCreds'):\n",
    "    apps_named_creds.text='DB_ORACLE___CLEDBA_SWMXDBA_EXLD___EM_MONITOR'\n",
    "    print(apps_named_creds.text)"
   ]
  },
  {
   "cell_type": "code",
   "execution_count": 63,
   "metadata": {},
   "outputs": [
    {
     "name": "stdout",
     "output_type": "stream",
     "text": [
      "CONS___SWMXDBA___WEBLOGIC\n",
      "CONS___SWMXDBA___WEBLOGIC\n"
     ]
    }
   ],
   "source": [
    "#find Database element in document and set the text value\n",
    "for wls_named_creds in root.iter('WlsAdminNamedCreds'):\n",
    "    wls_named_creds.text='CONS___SWMXDBA___WEBLOGIC'\n",
    "    print(wls_named_creds.text)"
   ]
  },
  {
   "cell_type": "code",
   "execution_count": 64,
   "metadata": {},
   "outputs": [
    {
     "name": "stdout",
     "output_type": "stream",
     "text": [
      "<Element 'Database' at 0x7f4985c9ef98>\n",
      "CLEDBA\n"
     ]
    }
   ],
   "source": [
    "#find Database element in document and set the text value\n",
    "#from ast import Name\n",
    "\n",
    "\n",
    "for database in root.iter('Database'):\n",
    "    database[0].text='CLEDBA'\n",
    "    print(database)\n",
    "    print(database[0].text)"
   ]
  },
  {
   "cell_type": "code",
   "execution_count": 65,
   "metadata": {},
   "outputs": [
    {
     "name": "stdout",
     "output_type": "stream",
     "text": [
      "DB_ORACLE___CLEDBA_SWMXDBA_EXLD___EM_MONITOR\n",
      "CONS___SWMXDBA___WEBLOGIC\n",
      "CLEDBA\n"
     ]
    }
   ],
   "source": [
    "#print AppsNamedCreds element text\n",
    "print(root[0][0][0].text)\n",
    "#print WlsAdminNamedCreds element text\n",
    "print(root[0][0][1].text)\n",
    "#print database element that I set\n",
    "print(root[1][0][0].text)"
   ]
  },
  {
   "cell_type": "code",
   "execution_count": 67,
   "metadata": {},
   "outputs": [],
   "source": [
    "#write the populated xml file\n",
    "tree.write(\"/tmp/CLEDBA_test.xml\",xml_declaration=True)"
   ]
  }
 ],
 "metadata": {
  "kernelspec": {
   "display_name": "Python 3.6.8 64-bit",
   "language": "python",
   "name": "python3"
  },
  "language_info": {
   "codemirror_mode": {
    "name": "ipython",
    "version": 3
   },
   "file_extension": ".py",
   "mimetype": "text/x-python",
   "name": "python",
   "nbconvert_exporter": "python",
   "pygments_lexer": "ipython3",
   "version": "3.6.8"
  },
  "orig_nbformat": 4,
  "vscode": {
   "interpreter": {
    "hash": "916dbcbb3f70747c44a77c7bcd40155683ae19c65e1c03b4aa3499c5328201f1"
   }
  }
 },
 "nbformat": 4,
 "nbformat_minor": 2
}
