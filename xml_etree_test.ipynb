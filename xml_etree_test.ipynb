{
 "cells": [
  {
   "cell_type": "code",
   "execution_count": 34,
   "metadata": {},
   "outputs": [],
   "source": [
    "import xml.etree.ElementTree as ET\n",
    "import os"
   ]
  },
  {
   "cell_type": "code",
   "execution_count": 35,
   "metadata": {},
   "outputs": [],
   "source": [
    "tree = ET.parse('ebs12_base.xml')\n",
    "root = tree.getroot()\n",
    "\n",
    "disco_xml_file = \"/tmp/EBS_DISCO.xml\"\n",
    "# delete ebs discover xml from a previous run if it exists\n",
    "if os.path.exists(disco_xml_file):\n",
    "    os.remove(disco_xml_file)"
   ]
  },
  {
   "cell_type": "code",
   "execution_count": 36,
   "metadata": {},
   "outputs": [
    {
     "name": "stdout",
     "output_type": "stream",
     "text": [
      "DefaultDiscParams {}\n",
      "Databases {}\n"
     ]
    }
   ],
   "source": [
    "for child in root:\n",
    "    print(child.tag, child.attrib)\n",
    "    "
   ]
  },
  {
   "cell_type": "code",
   "execution_count": 37,
   "metadata": {},
   "outputs": [
    {
     "name": "stdout",
     "output_type": "stream",
     "text": [
      "<Element 'AppsNamedCreds' at 0x7f9b40055ea8>\n",
      "DB_ORACLE___CLEDBA_SWMXDBA_EXLD___EM_MONITOR\n",
      "<Element 'WlsAdminNamedCreds' at 0x7f9b40055ef8>\n",
      "CONS___SWMXDBA___WEBLOGIC\n"
     ]
    }
   ],
   "source": [
    "for defaultdiscparams in root.iter('DefaultDiscParams'):\n",
    "    for appsnamedcreds in defaultdiscparams.iter('AppsNamedCreds'):\n",
    "        appsnamedcreds.text='DB_ORACLE___CLEDBA_SWMXDBA_EXLD___EM_MONITOR'\n",
    "        print(appsnamedcreds)\n",
    "        print(appsnamedcreds.text)\n",
    "    for wlsadminnamedcreds in defaultdiscparams.iter('WlsAdminNamedCreds'):\n",
    "        wlsadminnamedcreds.text='CONS___SWMXDBA___WEBLOGIC'\n",
    "        print(wlsadminnamedcreds)\n",
    "        print(wlsadminnamedcreds.text)\n",
    "\n"
   ]
  },
  {
   "cell_type": "code",
   "execution_count": 38,
   "metadata": {},
   "outputs": [
    {
     "name": "stdout",
     "output_type": "stream",
     "text": [
      "<Element 'Name' at 0x7f9b40042048>\n",
      "CLEDBA\n"
     ]
    }
   ],
   "source": [
    "#find Database element in document and set the text value\n",
    "#from ast import Name\n",
    "\n",
    "\n",
    "for database in root.iter('Database'):\n",
    "    for name in database.iter('Name'):\n",
    "        name.text='CLEDBA'\n",
    "        print(name)\n",
    "        print(name.text)"
   ]
  },
  {
   "cell_type": "code",
   "execution_count": 39,
   "metadata": {},
   "outputs": [
    {
     "name": "stdout",
     "output_type": "stream",
     "text": [
      "DB_ORACLE___CLEDBA_SWMXDBA_EXLD___EM_MONITOR\n",
      "CONS___SWMXDBA___WEBLOGIC\n",
      "CLEDBA\n"
     ]
    }
   ],
   "source": [
    "#print AppsNamedCreds element text\n",
    "print(root[0][0][0].text)\n",
    "#print WlsAdminNamedCreds element text\n",
    "print(root[0][0][1].text)\n",
    "#print database element that I set\n",
    "print(root[1][0][0].text)"
   ]
  },
  {
   "cell_type": "code",
   "execution_count": null,
   "metadata": {},
   "outputs": [],
   "source": [
    "#write the populated xml file\n",
    "tree.write(disco_xml_file,xml_declaration=True)"
   ]
  }
 ],
 "metadata": {
  "kernelspec": {
   "display_name": "Python 3.6.8 64-bit",
   "language": "python",
   "name": "python3"
  },
  "language_info": {
   "codemirror_mode": {
    "name": "ipython",
    "version": 3
   },
   "file_extension": ".py",
   "mimetype": "text/x-python",
   "name": "python",
   "nbconvert_exporter": "python",
   "pygments_lexer": "ipython3",
   "version": "3.6.8"
  },
  "orig_nbformat": 4,
  "vscode": {
   "interpreter": {
    "hash": "916dbcbb3f70747c44a77c7bcd40155683ae19c65e1c03b4aa3499c5328201f1"
   }
  }
 },
 "nbformat": 4,
 "nbformat_minor": 2
}
