{
 "cells": [
  {
   "cell_type": "code",
   "execution_count": 10,
   "metadata": {},
   "outputs": [],
   "source": [
    "## Testing Oracle EBS Version Query\n",
    "import fylki\n",
    "import smal\n",
    "from pprint import pprint"
   ]
  },
  {
   "cell_type": "code",
   "execution_count": 51,
   "metadata": {},
   "outputs": [],
   "source": [
    "def check_ebs_version(target, cred):\n",
    "\n",
    "        #\n",
    "        # Get the APPS credential, either from the parameters or,\n",
    "        # if it wasn't there, from CyberArk.\n",
    "        ca_target = target.get_cyberark_target()\n",
    "        if cred:\n",
    "            apps_cred = smal.OracleDBCred(username=cred[0],\n",
    "                                          password=cred[1],\n",
    "                                          target=ca_target)\n",
    "        else:\n",
    "            apps_cred = smal.factory(username=\"apps\",\n",
    "                                     target_type=\"oracle_database\",\n",
    "                                     target=ca_target)\n",
    "        #\n",
    "        # Connect to the database.\n",
    "        ebs_version_sql = \"select RELEASE_NAME from apps.fnd_product_groups\"\n",
    "        apps_cred.get_connection(dsn=target.ezconnect)\n",
    "        cursor = apps_cred.execute(ebs_version_sql)\n",
    "        ebs_version_data =cursor.fetchall()\n",
    "        print(ebs_version_data[0][0])\n",
    "        "
   ]
  },
  {
   "cell_type": "code",
   "execution_count": 52,
   "metadata": {},
   "outputs": [
    {
     "name": "stdout",
     "output_type": "stream",
     "text": [
      "swmxdba\n"
     ]
    }
   ],
   "source": [
    "ebs_cledba = fylki.factory(\"oracle_ebs\", \"CLEDBA_Oracle E-Business Suite\")\n",
    "print(ebs_cledba.pdb.service_name)\n",
    "if ebs_cledba.pdb is None:\n",
    "    target_db = ebs_cledba.database\n",
    "else:\n",
    "    target_db = ebs_cledba.pdb"
   ]
  },
  {
   "cell_type": "code",
   "execution_count": 53,
   "metadata": {},
   "outputs": [
    {
     "name": "stdout",
     "output_type": "stream",
     "text": [
      "CLEDBA_SWMXDBA:oracle_pdb\n"
     ]
    }
   ],
   "source": [
    "print(target_db)\n"
   ]
  },
  {
   "cell_type": "code",
   "execution_count": 54,
   "metadata": {},
   "outputs": [
    {
     "name": "stdout",
     "output_type": "stream",
     "text": [
      "12.2.9\n"
     ]
    }
   ],
   "source": [
    "apps_cred = [\"apps\",\"j1o0M_nrYx\"]\n",
    "\n",
    "check_ebs_version(target=target_db, cred=apps_cred)\n",
    "\n"
   ]
  },
  {
   "cell_type": "code",
   "execution_count": null,
   "metadata": {},
   "outputs": [],
   "source": [
    "apps_cred = [\"apps\",\"j1o0M_nrYx\"]\n",
    "\n",
    "ebs_swdba = fylki.factory(\"oracle_ebs\", \"SWDBA_Oracle E-Business Suite\")\n",
    "print(ebs_swdba.pdb.service_name)\n",
    "\n",
    "if ebs_swdba.pdb is None:\n",
    "    target_db = ebs_swdba.database\n",
    "else:\n",
    "    target_db = ebs_swdba.pdb\n",
    "\n",
    "\n",
    "check_ebs_version(ebs_swdba.database,\n",
    "                pdb=ebs_swdba.database.pdbs[0],\n",
    "\t\t\t\tcred=apps_cred)"
   ]
  }
 ],
 "metadata": {
  "kernelspec": {
   "display_name": "Python 3.6.8 64-bit",
   "language": "python",
   "name": "python3"
  },
  "language_info": {
   "codemirror_mode": {
    "name": "ipython",
    "version": 3
   },
   "file_extension": ".py",
   "mimetype": "text/x-python",
   "name": "python",
   "nbconvert_exporter": "python",
   "pygments_lexer": "ipython3",
   "version": "3.6.8"
  },
  "orig_nbformat": 4,
  "vscode": {
   "interpreter": {
    "hash": "31f2aee4e71d21fbe5cf8b01ff0e069b9275f58929596ceb00d14d90e3e16cd6"
   }
  }
 },
 "nbformat": 4,
 "nbformat_minor": 2
}
