{
 "cells": [
  {
   "cell_type": "code",
   "execution_count": 1,
   "metadata": {},
   "outputs": [],
   "source": [
    "## Testing Oracle EBS Version Query\n",
    "import fylki"
   ]
  },
  {
   "cell_type": "code",
   "execution_count": 2,
   "metadata": {},
   "outputs": [],
   "source": [
    "ebs_version_sql = \"\"\"\n",
    "select RELEASE_NAME from apps.fnd_product_groups;\n",
    "\"\"\""
   ]
  },
  {
   "cell_type": "code",
   "execution_count": 3,
   "metadata": {},
   "outputs": [],
   "source": [
    "ebs_cledev = fylki.factory(\"oracle_ebs\", \"CLEDEV_Oracle E-Business Suite\")"
   ]
  },
  {
   "cell_type": "code",
   "execution_count": 5,
   "metadata": {},
   "outputs": [
    {
     "name": "stdout",
     "output_type": "stream",
     "text": [
      "CLEDEV:rac_database\n",
      "CLEDEV\n",
      "[CLEDEV_SWMXDEV:oracle_pdb, CLEDEV_CDBROOT:oracle_pdb]\n"
     ]
    }
   ],
   "source": [
    "print(ebs_cledev.database)\n",
    "print(ebs_cledev.database.name)\n",
    "print(ebs_cledev.database.pdbs)\n"
   ]
  },
  {
   "cell_type": "code",
   "execution_count": null,
   "metadata": {},
   "outputs": [],
   "source": [
    "cursor = fylki.execute_oms_sql(ebs_version_sql,\n",
    "                                           property_value=db_name,\n",
    "                                           target_type=db_type)"
   ]
  }
 ],
 "metadata": {
  "kernelspec": {
   "display_name": "Python 3.6.8 64-bit",
   "language": "python",
   "name": "python3"
  },
  "language_info": {
   "codemirror_mode": {
    "name": "ipython",
    "version": 3
   },
   "file_extension": ".py",
   "mimetype": "text/x-python",
   "name": "python",
   "nbconvert_exporter": "python",
   "pygments_lexer": "ipython3",
   "version": "3.6.8"
  },
  "orig_nbformat": 4,
  "vscode": {
   "interpreter": {
    "hash": "31f2aee4e71d21fbe5cf8b01ff0e069b9275f58929596ceb00d14d90e3e16cd6"
   }
  }
 },
 "nbformat": 4,
 "nbformat_minor": 2
}
