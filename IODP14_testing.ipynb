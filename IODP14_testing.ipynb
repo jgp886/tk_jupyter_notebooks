{
 "cells": [
  {
   "cell_type": "code",
   "execution_count": 14,
   "metadata": {},
   "outputs": [],
   "source": [
    "import fylki\n",
    "import os\n",
    "from pprint import pprint\n"
   ]
  },
  {
   "cell_type": "code",
   "execution_count": null,
   "metadata": {},
   "outputs": [],
   "source": [
    "print(os.environ[\"SHELL\"])\n",
    "os.environ[\"ANSIBLE_BECOME_PASS\"] = \"Thund3rStr1k3_40k\"\n",
    "print(os.environ[\"ANSIBLE_BECOME_PASS\"])\n"
   ]
  },
  {
   "cell_type": "code",
   "execution_count": 5,
   "metadata": {},
   "outputs": [],
   "source": [
    "ssodp00a = fylki.factory(fylki.OracleInstance, \"MAA_cpssodp00a.sherwin.com\")"
   ]
  },
  {
   "cell_type": "code",
   "execution_count": 13,
   "metadata": {},
   "outputs": [
    {
     "name": "stdout",
     "output_type": "stream",
     "text": [
      "Primary Version:19.16.0.0.0\n",
      "Standby Version:19.15.0.0.0\n",
      "Downgrade detected from RU 16 to 15\n"
     ]
    }
   ],
   "source": [
    "print(f\"Primary Version:{ssodp00a.version}\")\n",
    "print(f\"Standby Version:{ssodp00a.dataguard_dbs[0].version}\")\n",
    "primary_ru_minor=ssodp00a.version.split('.')[1]\n",
    "standby_ru_minor=ssodp00a.dataguard_dbs[0].version.split('.')[1]\n",
    "\n",
    "\n",
    "if primary_ru_minor > standby_ru_minor:\n",
    "    print(f\"Downgrade detected from RU {primary_ru_minor} to {standby_ru_minor}\")\n",
    "else:\n",
    "    print(\"No Downgrade Detected.\")    \n",
    "\n"
   ]
  },
  {
   "cell_type": "code",
   "execution_count": 7,
   "metadata": {},
   "outputs": [
    {
     "data": {
      "text/plain": [
       "'MAA'"
      ]
     },
     "execution_count": 7,
     "metadata": {},
     "output_type": "execute_result"
    }
   ],
   "source": [
    "ssodp00a.sid"
   ]
  },
  {
   "cell_type": "code",
   "execution_count": null,
   "metadata": {},
   "outputs": [],
   "source": [
    "pprint(ssodp00a.describe())"
   ]
  },
  {
   "cell_type": "code",
   "execution_count": 10,
   "metadata": {},
   "outputs": [
    {
     "name": "stdout",
     "output_type": "stream",
     "text": [
      "19.15.0.0.0\n"
     ]
    }
   ],
   "source": [
    "print(ssodp00a.dataguard_dbs[0].version)"
   ]
  },
  {
   "cell_type": "code",
   "execution_count": 20,
   "metadata": {},
   "outputs": [
    {
     "name": "stdout",
     "output_type": "stream",
     "text": [
      "/home/jgp886/automation/MAA/downgrade_approved\n",
      "Oracle RDBMS RU Downgrade Approved\n"
     ]
    }
   ],
   "source": [
    "marker_file = f\"/home/jgp886/automation/{ssodp00a.sid}/downgrade_approved\"\n",
    "print(marker_file)\n",
    "downgrade_switchover_marker = os.path.exists(marker_file)\n",
    "downgrade_switchover_marker\n",
    "\n",
    "if downgrade_switchover_marker:\n",
    "    print(\"Oracle RDBMS RU Downgrade Approved\")\n",
    "else:\n",
    "    print(\"Stop the PRESS!!! Unintended Downgrade Detected!!!\")"
   ]
  }
 ],
 "metadata": {
  "kernelspec": {
   "display_name": "Python 3.6.8 64-bit",
   "language": "python",
   "name": "python3"
  },
  "language_info": {
   "codemirror_mode": {
    "name": "ipython",
    "version": 3
   },
   "file_extension": ".py",
   "mimetype": "text/x-python",
   "name": "python",
   "nbconvert_exporter": "python",
   "pygments_lexer": "ipython3",
   "version": "3.6.8"
  },
  "orig_nbformat": 4,
  "vscode": {
   "interpreter": {
    "hash": "916dbcbb3f70747c44a77c7bcd40155683ae19c65e1c03b4aa3499c5328201f1"
   }
  }
 },
 "nbformat": 4,
 "nbformat_minor": 2
}
